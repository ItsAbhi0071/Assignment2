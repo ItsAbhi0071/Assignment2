{
 "cells": [
  {
   "cell_type": "code",
   "execution_count": 1,
   "id": "ff47fb2c-9a49-464d-821b-8ca33a610def",
   "metadata": {},
   "outputs": [
    {
     "name": "stdin",
     "output_type": "stream",
     "text": [
      "Enter your marks :  73\n"
     ]
    },
    {
     "name": "stdout",
     "output_type": "stream",
     "text": [
      "Grade C\n"
     ]
    }
   ],
   "source": [
    "#qus1\n",
    "a=int(input(\"Enter your marks : \"))\n",
    "if a > 90:\n",
    "    print(\"Grade A\")\n",
    "elif a>80 and a<=90 :\n",
    "    print(\"Grade B\")\n",
    "elif a>=60 and a<=80 :\n",
    "    print(\"Grade C\")\n",
    "else:\n",
    "    print(\"Grade D\")"
   ]
  },
  {
   "cell_type": "code",
   "execution_count": 3,
   "id": "dd001b3a-31e6-4bfd-b721-ad9935ef72c4",
   "metadata": {},
   "outputs": [
    {
     "name": "stdin",
     "output_type": "stream",
     "text": [
      "Enter The cost price of bike :  40000\n"
     ]
    },
    {
     "name": "stdout",
     "output_type": "stream",
     "text": [
      "The road tax will be 5% :  2000.0\n"
     ]
    }
   ],
   "source": [
    "#qus2\n",
    "a=int(input(\"Enter The cost price of bike : \"))\n",
    "if a <= 50000:\n",
    "    print(\"The road tax will be 5% : \", (5/100)*a)\n",
    "elif a>50000 and a<=100000 :\n",
    "    print(\"The road tax will be 10% : \", (10/100)*a)\n",
    "else:\n",
    "    print(\"The road tax will be 15% : \", (15/100)*a)"
   ]
  },
  {
   "cell_type": "code",
   "execution_count": 4,
   "id": "725df889-af98-493d-b2ed-d27149beb079",
   "metadata": {},
   "outputs": [
    {
     "name": "stdout",
     "output_type": "stream",
     "text": [
      "['Delhi', 'Jaipur', 'Agra']\n"
     ]
    },
    {
     "name": "stdin",
     "output_type": "stream",
     "text": [
      "Select from the list of city to see the famous monument of that city :  Delhi\n"
     ]
    },
    {
     "name": "stdout",
     "output_type": "stream",
     "text": [
      "The Famous Monument is Red Fort\n"
     ]
    }
   ],
   "source": [
    "#qu3\n",
    "city=['Delhi','Jaipur','Agra']\n",
    "print(city)\n",
    "a=input(\"Select from the list of city to see the famous monument of that city : \")\n",
    "if a == 'Delhi':\n",
    "    print(\"The Famous Monument is Red Fort\")\n",
    "elif a == 'Jaipur':\n",
    "    print(\"The Famous Monument is Jal Mahal\")\n",
    "elif a== 'Agra':\n",
    "    print(\"The Famous Monument is Taj Mahal\")\n",
    "else:\n",
    "    print(\"Please select the city from the list\")\n",
    "    "
   ]
  },
  {
   "cell_type": "code",
   "execution_count": 5,
   "id": "d43c4f52-7a59-405a-9ef2-024335775279",
   "metadata": {},
   "outputs": [
    {
     "name": "stdin",
     "output_type": "stream",
     "text": [
      "Enter the number 25\n"
     ]
    },
    {
     "data": {
      "text/plain": [
       "1"
      ]
     },
     "execution_count": 5,
     "metadata": {},
     "output_type": "execute_result"
    }
   ],
   "source": [
    "#qus4\n",
    "n=int(input(\"Enter the number\"))\n",
    "count = 0\n",
    "while n>=10:\n",
    "    n=n//3\n",
    "    count+=1\n",
    "count"
   ]
  },
  {
   "cell_type": "code",
   "execution_count": 6,
   "id": "5959b872-b6d2-4314-a9bc-ecae7a014e83",
   "metadata": {},
   "outputs": [
    {
     "name": "stdout",
     "output_type": "stream",
     "text": [
      "A While Loop is used to repeat a specific block of code an unknown number of times,\n",
      "until a condition is met. For example, if we want to ask a user for a number between 1 and 10,\n",
      "we don't know how many times the user may enter a larger number, \n",
      "so we keep asking 'while the number is not between 1 and 10'.\n"
     ]
    },
    {
     "name": "stdin",
     "output_type": "stream",
     "text": [
      "Enter the number 12\n"
     ]
    },
    {
     "name": "stdout",
     "output_type": "stream",
     "text": [
      "Enter the number again\n"
     ]
    },
    {
     "name": "stdin",
     "output_type": "stream",
     "text": [
      "Enter the number 5\n"
     ]
    },
    {
     "name": "stdout",
     "output_type": "stream",
     "text": [
      "5\n"
     ]
    }
   ],
   "source": [
    "#qus5\n",
    "print('''A While Loop is used to repeat a specific block of code an unknown number of times,\n",
    "until a condition is met. For example, if we want to ask a user for a number between 1 and 10,\n",
    "we don't know how many times the user may enter a larger number, \n",
    "so we keep asking 'while the number is not between 1 and 10'.''')\n",
    "#for example\n",
    "while True:    \n",
    "    n=int(input(\"Enter the number\"))\n",
    "    if n<=10 and n>=1:\n",
    "        print(n)\n",
    "        break\n",
    "    else:\n",
    "        print(\"Enter the number again\")"
   ]
  },
  {
   "cell_type": "code",
   "execution_count": 7,
   "id": "17008a68-3329-4793-95b8-afff5d24a491",
   "metadata": {},
   "outputs": [
    {
     "name": "stdin",
     "output_type": "stream",
     "text": [
      "Enter the number 3\n"
     ]
    },
    {
     "name": "stdout",
     "output_type": "stream",
     "text": [
      "*\n",
      "**\n",
      "***\n"
     ]
    }
   ],
   "source": [
    "#qus6\n",
    "n=int(input(\"Enter the number\"))\n",
    "i=1\n",
    "while i<=n:\n",
    "    print(\"*\"*i)\n",
    "    i+=1"
   ]
  },
  {
   "cell_type": "code",
   "execution_count": 8,
   "id": "cc1951e4-59e9-4ca2-b6eb-124f8f30c715",
   "metadata": {},
   "outputs": [
    {
     "name": "stdin",
     "output_type": "stream",
     "text": [
      "Enter the number 3\n"
     ]
    },
    {
     "name": "stdout",
     "output_type": "stream",
     "text": [
      "   *\n",
      "  **\n",
      " ***\n"
     ]
    }
   ],
   "source": [
    "#qus6\n",
    "n=int(input(\"Enter the number\"))\n",
    "i=1\n",
    "while i<=n:\n",
    "    print(\" \"*(n-i),\"*\"*i)\n",
    "    i+=1"
   ]
  },
  {
   "cell_type": "code",
   "execution_count": 9,
   "id": "37f0d5f6-0cc1-4984-b081-6f46f3585441",
   "metadata": {},
   "outputs": [
    {
     "name": "stdin",
     "output_type": "stream",
     "text": [
      "Enter the number 5\n"
     ]
    },
    {
     "name": "stdout",
     "output_type": "stream",
     "text": [
      "     *     \n",
      "    ***    \n",
      "   *****   \n",
      "  *******  \n",
      " ********* \n"
     ]
    }
   ],
   "source": [
    "#qus6\n",
    "n=int(input(\"Enter the number\"))\n",
    "i=0\n",
    "while i<n:\n",
    "    print(\" \"*(n-i-1),\"*\"*(i*2+1),\" \"*(n-i-1))\n",
    "    i+=1"
   ]
  },
  {
   "cell_type": "code",
   "execution_count": 10,
   "id": "5bbf94cf-df65-41b0-951b-0624a4321fec",
   "metadata": {},
   "outputs": [
    {
     "name": "stdout",
     "output_type": "stream",
     "text": [
      "10\n",
      "9\n",
      "8\n",
      "7\n",
      "6\n",
      "5\n",
      "4\n",
      "3\n",
      "2\n",
      "1\n"
     ]
    }
   ],
   "source": [
    "#qus7\n",
    "i=10\n",
    "while i<=10 and i>=1:\n",
    "    print(i)\n",
    "    i-=1"
   ]
  },
  {
   "cell_type": "code",
   "execution_count": null,
   "id": "22119b2c-2fa2-469b-83ff-5ca082a6895d",
   "metadata": {},
   "outputs": [],
   "source": []
  }
 ],
 "metadata": {
  "kernelspec": {
   "display_name": "Python 3 (ipykernel)",
   "language": "python",
   "name": "python3"
  },
  "language_info": {
   "codemirror_mode": {
    "name": "ipython",
    "version": 3
   },
   "file_extension": ".py",
   "mimetype": "text/x-python",
   "name": "python",
   "nbconvert_exporter": "python",
   "pygments_lexer": "ipython3",
   "version": "3.10.6"
  }
 },
 "nbformat": 4,
 "nbformat_minor": 5
}
